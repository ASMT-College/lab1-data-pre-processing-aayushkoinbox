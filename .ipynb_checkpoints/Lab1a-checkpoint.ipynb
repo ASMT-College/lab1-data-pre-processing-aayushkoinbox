{
 "cells": [
  {
   "cell_type": "code",
   "execution_count": 1,
   "id": "06458143-06b9-45a8-ab42-87a1b62505c3",
   "metadata": {},
   "outputs": [],
   "source": [
    "import pandas as pd\n"
   ]
  },
  {
   "cell_type": "code",
   "execution_count": 3,
   "id": "93a8b4ac-050d-406d-816c-39f945b87116",
   "metadata": {},
   "outputs": [],
   "source": [
    "# Step 1: Load the dataset\n",
    "df =pd.read_csv('lab1-datasets/employee_data.csv')"
   ]
  },
  {
   "cell_type": "code",
   "execution_count": 6,
   "id": "72bc804f-77e6-44f7-a885-a319b8e6bf8e",
   "metadata": {},
   "outputs": [
    {
     "name": "stdout",
     "output_type": "stream",
     "text": [
      "Raw/Inital Data:\n",
      "    ID     Name   Age       Department   Salary\n",
      "0   1     John  28.0               HR  50000.0\n",
      "1   2     Jane  35.0          Finance  60000.0\n",
      "2   3    Emily   NaN               HR  55000.0\n",
      "3   4  Michael  40.0  Human Resources      NaN\n",
      "4   5    Sarah  29.0               IT  52000.0\n"
     ]
    }
   ],
   "source": [
    "print('Raw/Inital Data:\\n', df.head())"
   ]
  },
  {
   "cell_type": "code",
   "execution_count": 30,
   "id": "e7bb7ba4-6c2b-484f-b415-a8afc49aba0b",
   "metadata": {},
   "outputs": [
    {
     "name": "stderr",
     "output_type": "stream",
     "text": [
      "C:\\Users\\pc\\AppData\\Local\\Temp\\ipykernel_15924\\2598289929.py:3: FutureWarning: A value is trying to be set on a copy of a DataFrame or Series through chained assignment using an inplace method.\n",
      "The behavior will change in pandas 3.0. This inplace method will never work because the intermediate object on which we are setting values always behaves as a copy.\n",
      "\n",
      "For example, when doing 'df[col].method(value, inplace=True)', try using 'df.method({col: value}, inplace=True)' or df[col] = df[col].method(value) instead, to perform the operation inplace on the original object.\n",
      "\n",
      "\n",
      "  df['Age'].fillna(df['Age'].mean(), inplace=True)\n",
      "C:\\Users\\pc\\AppData\\Local\\Temp\\ipykernel_15924\\2598289929.py:4: FutureWarning: A value is trying to be set on a copy of a DataFrame or Series through chained assignment using an inplace method.\n",
      "The behavior will change in pandas 3.0. This inplace method will never work because the intermediate object on which we are setting values always behaves as a copy.\n",
      "\n",
      "For example, when doing 'df[col].method(value, inplace=True)', try using 'df.method({col: value}, inplace=True)' or df[col] = df[col].method(value) instead, to perform the operation inplace on the original object.\n",
      "\n",
      "\n",
      "  df['Salary'].fillna(df['Salary'].mean(), inplace = True)\n"
     ]
    }
   ],
   "source": [
    "# Step 2: Handle missing values\n",
    "# Fill missing 'Age' with the mean age and 'Salary' with the mean salary\n",
    "df['Age'].fillna(df['Age'].mean(), inplace=True)\n",
    "df['Salary'].fillna(df['Salary'].mean(), inplace = True)"
   ]
  },
  {
   "cell_type": "code",
   "execution_count": 31,
   "id": "246d9147-78d1-4021-b10b-0418fd238b48",
   "metadata": {},
   "outputs": [
    {
     "name": "stderr",
     "output_type": "stream",
     "text": [
      "C:\\Users\\pc\\AppData\\Local\\Temp\\ipykernel_15924\\2183300622.py:1: FutureWarning: A value is trying to be set on a copy of a DataFrame or Series through chained assignment using an inplace method.\n",
      "The behavior will change in pandas 3.0. This inplace method will never work because the intermediate object on which we are setting values always behaves as a copy.\n",
      "\n",
      "For example, when doing 'df[col].method(value, inplace=True)', try using 'df.method({col: value}, inplace=True)' or df[col] = df[col].method(value) instead, to perform the operation inplace on the original object.\n",
      "\n",
      "\n",
      "  df['Salary'].fillna(df['Salary'].mean(), inplace = True)\n"
     ]
    }
   ],
   "source": [
    "df['Salary'].fillna(df['Salary'].mean(), inplace = True)"
   ]
  },
  {
   "cell_type": "code",
   "execution_count": 32,
   "id": "13322ea2-bee8-4378-95ca-3c616bdeca89",
   "metadata": {},
   "outputs": [
    {
     "name": "stderr",
     "output_type": "stream",
     "text": [
      "C:\\Users\\pc\\AppData\\Local\\Temp\\ipykernel_15924\\1698716155.py:1: FutureWarning: A value is trying to be set on a copy of a DataFrame or Series through chained assignment using an inplace method.\n",
      "The behavior will change in pandas 3.0. This inplace method will never work because the intermediate object on which we are setting values always behaves as a copy.\n",
      "\n",
      "For example, when doing 'df[col].method(value, inplace=True)', try using 'df.method({col: value}, inplace=True)' or df[col] = df[col].method(value) instead, to perform the operation inplace on the original object.\n",
      "\n",
      "\n",
      "  df['Age'].fillna(df['Age'].mean(), inplace=True)\n"
     ]
    }
   ],
   "source": [
    "df['Age'].fillna(df['Age'].mean(), inplace=True)"
   ]
  },
  {
   "cell_type": "code",
   "execution_count": 41,
   "id": "29241b73-d408-4bc7-b33b-1582859d738f",
   "metadata": {},
   "outputs": [],
   "source": [
    "#Step 3: Standardize department names\n",
    "df['Department']=df['Department'].replace({\n",
    "\"Human Resources\" : \"HR\",\n",
    "    \"H.R.\": \"HR\",\n",
    "    \"hr\" : \"HR\"\n",
    "    })"
   ]
  },
  {
   "cell_type": "code",
   "execution_count": 1,
   "id": "373d40f4-bc47-4c66-ad43-d5ff45e8aa90",
   "metadata": {},
   "outputs": [
    {
     "ename": "NameError",
     "evalue": "name 'df' is not defined",
     "output_type": "error",
     "traceback": [
      "\u001b[1;31m---------------------------------------------------------------------------\u001b[0m",
      "\u001b[1;31mNameError\u001b[0m                                 Traceback (most recent call last)",
      "Cell \u001b[1;32mIn[1], line 1\u001b[0m\n\u001b[1;32m----> 1\u001b[0m \u001b[38;5;28mprint\u001b[39m(\u001b[38;5;124m'\u001b[39m\u001b[38;5;124mRaw/Inital Data:\u001b[39m\u001b[38;5;130;01m\\n\u001b[39;00m\u001b[38;5;124m'\u001b[39m, df\u001b[38;5;241m.\u001b[39mtail())\n",
      "\u001b[1;31mNameError\u001b[0m: name 'df' is not defined"
     ]
    }
   ],
   "source": [
    "print('Raw/Inital Data:\\n', df.tail())"
   ]
  },
  {
   "cell_type": "code",
   "execution_count": 35,
   "id": "edac57cc-2943-4769-aa9a-92babdda2e17",
   "metadata": {},
   "outputs": [
    {
     "name": "stdout",
     "output_type": "stream",
     "text": [
      "\n",
      "Cleaned Data:\n",
      "    ID     Name   Age Department   Salary\n",
      "0   1     John  28.0         HR  50000.0\n",
      "1   2     Jane  35.0    Finance  60000.0\n",
      "2   3    Emily  35.7         HR  55000.0\n",
      "3   4  Michael  40.0         HR  58100.0\n",
      "4   5    Sarah  29.0         IT  52000.0\n"
     ]
    }
   ],
   "source": [
    "# Step 4: Remove duplicate records based on 'ID'\n",
    "df.drop_duplicates(subset='ID',keep=\"first\", inplace=True)\n",
    "print(\"\\nCleaned Data:\\n\", df.head())"
   ]
  },
  {
   "cell_type": "code",
   "execution_count": 36,
   "id": "8ecb793e-9027-474f-8a61-e794db2cea61",
   "metadata": {},
   "outputs": [
    {
     "name": "stdout",
     "output_type": "stream",
     "text": [
      "\n",
      "Cleaned Data:\n",
      "    ID     Name   Age Department   Salary\n",
      "0   1     John  28.0         HR  50000.0\n",
      "1   2     Jane  35.0    Finance  60000.0\n",
      "2   3    Emily  35.7         HR  55000.0\n",
      "3   4  Michael  40.0         HR  58100.0\n",
      "4   5    Sarah  29.0         IT  52000.0\n"
     ]
    }
   ],
   "source": [
    "print(\"\\nCleaned Data:\\n\", df.head())"
   ]
  },
  {
   "cell_type": "code",
   "execution_count": 39,
   "id": "8754c757-5534-492a-af65-b1dbb385d323",
   "metadata": {},
   "outputs": [],
   "source": [
    "df.drop_duplicates(subset='Name',keep=\"first\", inplace=True)"
   ]
  },
  {
   "cell_type": "code",
   "execution_count": 40,
   "id": "47a76b90-5686-4ba1-8b8f-b3fe810d12c5",
   "metadata": {},
   "outputs": [
    {
     "name": "stdout",
     "output_type": "stream",
     "text": [
      "\n",
      "Cleaned Data:\n",
      "    ID     Name   Age Department   Salary\n",
      "0   1     John  28.0         HR  50000.0\n",
      "1   2     Jane  35.0    Finance  60000.0\n",
      "2   3    Emily  35.7         HR  55000.0\n",
      "3   4  Michael  40.0         HR  58100.0\n",
      "4   5    Sarah  29.0         IT  52000.0\n"
     ]
    }
   ],
   "source": [
    "print(\"\\nCleaned Data:\\n\", df.head())"
   ]
  },
  {
   "cell_type": "code",
   "execution_count": null,
   "id": "46c0f142-4a16-431f-b342-66b94307bb70",
   "metadata": {},
   "outputs": [],
   "source": []
  }
 ],
 "metadata": {
  "kernelspec": {
   "display_name": "Python 3 (ipykernel)",
   "language": "python",
   "name": "python3"
  },
  "language_info": {
   "codemirror_mode": {
    "name": "ipython",
    "version": 3
   },
   "file_extension": ".py",
   "mimetype": "text/x-python",
   "name": "python",
   "nbconvert_exporter": "python",
   "pygments_lexer": "ipython3",
   "version": "3.12.7"
  }
 },
 "nbformat": 4,
 "nbformat_minor": 5
}

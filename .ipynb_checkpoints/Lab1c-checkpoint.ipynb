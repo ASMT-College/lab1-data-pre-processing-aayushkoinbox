{
 "cells": [
  {
   "cell_type": "code",
   "execution_count": 1,
   "id": "757147a6-3124-4303-bb19-9034f62ec7e6",
   "metadata": {},
   "outputs": [],
   "source": [
    "import pandas as pd\n",
    "#from sklearn.preprocessing import "
   ]
  },
  {
   "cell_type": "code",
   "execution_count": 8,
   "id": "34331088-289b-4068-9803-5e41a5df4294",
   "metadata": {},
   "outputs": [],
   "source": [
    "# Step 1: Load the dataset\n",
    "df=pd.read_csv('lab1-datasets/customer_ages.csv')"
   ]
  },
  {
   "cell_type": "code",
   "execution_count": 5,
   "id": "5fb3cbef-8fec-40b6-b373-3d1586ead0c6",
   "metadata": {},
   "outputs": [
    {
     "name": "stdout",
     "output_type": "stream",
     "text": [
      "raw/inital data\n",
      "    CustomerID  Age\n",
      "0           1   25\n",
      "1           2   42\n",
      "2           3   36\n",
      "3           4   53\n",
      "4           5   28 \n",
      "     CustomerID  Age\n",
      "10          11   34\n",
      "11          12   19\n",
      "12          13   45\n",
      "13          14   39\n",
      "14          15   27\n"
     ]
    }
   ],
   "source": [
    "print(\"raw/inital data\\n\", df.head(),\"\\n\",df.tail())"
   ]
  },
  {
   "cell_type": "code",
   "execution_count": 6,
   "id": "a286e040-cde4-4bc6-8f8f-4023b3404a78",
   "metadata": {},
   "outputs": [
    {
     "name": "stdout",
     "output_type": "stream",
     "text": [
      "raw/inital data\n",
      "     CustomerID  Age\n",
      "0            1   25\n",
      "1            2   42\n",
      "2            3   36\n",
      "3            4   53\n",
      "4            5   28\n",
      "5            6   47\n",
      "6            7   31\n",
      "7            8   50\n",
      "8            9   22\n",
      "9           10   60\n",
      "10          11   34\n",
      "11          12   19\n",
      "12          13   45\n",
      "13          14   39\n",
      "14          15   27\n"
     ]
    }
   ],
   "source": [
    "print(\"raw/inital data\\n\", df)"
   ]
  },
  {
   "cell_type": "code",
   "execution_count": 11,
   "id": "e8af8fab-267f-414c-9f77-a207b13d9c92",
   "metadata": {},
   "outputs": [],
   "source": [
    "# Step 2: Create bins and assign labels\n",
    "bins =[18,30,50,100]\n",
    "labels = [\"Young\",\"Middle-aged\",\"Senior\"]\n",
    "df['AgeGroup'] =pd.cut(df['Age'],bins=bins,labels=labels, right=False)  "
   ]
  },
  {
   "cell_type": "code",
   "execution_count": 13,
   "id": "8ed6f249-f8e9-44f0-9d27-baf5b0d373b1",
   "metadata": {},
   "outputs": [
    {
     "name": "stdout",
     "output_type": "stream",
     "text": [
      "data after binning\n",
      "     CustomerID  Age     AgeGroup\n",
      "0            1   25        Young\n",
      "1            2   42  Middle-aged\n",
      "2            3   36  Middle-aged\n",
      "3            4   53       Senior\n",
      "4            5   28        Young\n",
      "5            6   47  Middle-aged\n",
      "6            7   31  Middle-aged\n",
      "7            8   50       Senior\n",
      "8            9   22        Young\n",
      "9           10   60       Senior\n",
      "10          11   34  Middle-aged\n",
      "11          12   19        Young\n",
      "12          13   45  Middle-aged\n",
      "13          14   39  Middle-aged\n",
      "14          15   27        Young\n"
     ]
    }
   ],
   "source": [
    "print(\"data after binning\\n\",df)"
   ]
  },
  {
   "cell_type": "code",
   "execution_count": 14,
   "id": "6d4f2769-af74-45b7-86f9-bc137119ec88",
   "metadata": {},
   "outputs": [],
   "source": [
    "# Step 3: Calculate distribution of customers in each age group\n",
    "age_group_distribution=df['AgeGroup'].value_counts()"
   ]
  },
  {
   "cell_type": "code",
   "execution_count": 20,
   "id": "790ac120-a895-4d91-bf46-78c821bd0b61",
   "metadata": {},
   "outputs": [
    {
     "name": "stdout",
     "output_type": "stream",
     "text": [
      "age group distribution:\n",
      " AgeGroup\n",
      "Middle-aged    7\n",
      "Young          5\n",
      "Senior         3\n",
      "Name: count, dtype: int64\n"
     ]
    }
   ],
   "source": [
    "print(\"age group distribution:\\n\",age_group_distribution)"
   ]
  },
  {
   "cell_type": "code",
   "execution_count": null,
   "id": "8d90e76e-bfe8-4f47-b291-eaee82b5cd15",
   "metadata": {},
   "outputs": [],
   "source": []
  }
 ],
 "metadata": {
  "kernelspec": {
   "display_name": "Python 3 (ipykernel)",
   "language": "python",
   "name": "python3"
  },
  "language_info": {
   "codemirror_mode": {
    "name": "ipython",
    "version": 3
   },
   "file_extension": ".py",
   "mimetype": "text/x-python",
   "name": "python",
   "nbconvert_exporter": "python",
   "pygments_lexer": "ipython3",
   "version": "3.12.7"
  }
 },
 "nbformat": 4,
 "nbformat_minor": 5
}

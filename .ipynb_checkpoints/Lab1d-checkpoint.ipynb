{
 "cells": [
  {
   "cell_type": "code",
   "execution_count": 1,
   "id": "f560ddb3-6155-4c62-b390-3a2991409c5d",
   "metadata": {},
   "outputs": [],
   "source": [
    "import pandas as pd"
   ]
  },
  {
   "cell_type": "code",
   "execution_count": 5,
   "id": "8fdc97f9-355a-45ae-a44f-955f7fe4448e",
   "metadata": {},
   "outputs": [],
   "source": [
    "# Step 1: Load the dataset\n",
    "df = pd.read_csv(\"lab1-datasets/sales_data.csv\")"
   ]
  },
  {
   "cell_type": "code",
   "execution_count": 16,
   "id": "9fd2e2cf-fc21-4f56-b739-855e4b2f52e5",
   "metadata": {},
   "outputs": [
    {
     "name": "stdout",
     "output_type": "stream",
     "text": [
      "Raw/intial data\n",
      "       Month  Sales SalesCategory\n",
      "0   January  15000        medium\n",
      "1  February  18000        medium\n",
      "2     March  12000        medium\n",
      "3     April  30000          high\n",
      "4       May  22000          high\n"
     ]
    }
   ],
   "source": [
    "print(\"Raw/intial data\\n\",df.head())"
   ]
  },
  {
   "cell_type": "code",
   "execution_count": 11,
   "id": "edf6de30-4ccd-4d41-bcce-805647af83e4",
   "metadata": {},
   "outputs": [],
   "source": [
    "# Step 2: Apply discretization\n",
    "bins =[0,5000,20000, float('inf')]\n",
    "labels =[\"low\",\"medium\",\"high\"]\n",
    "df[\"SalesCategory\"]=pd.cut(df['Sales'],bins=bins,labels=labels)"
   ]
  },
  {
   "cell_type": "code",
   "execution_count": 15,
   "id": "65e98ae1-2089-4733-aa2c-ce410fd625fe",
   "metadata": {},
   "outputs": [
    {
     "name": "stdout",
     "output_type": "stream",
     "text": [
      "      Month  Sales SalesCategory\n",
      "0   January  15000        medium\n",
      "1  February  18000        medium\n",
      "2     March  12000        medium\n",
      "3     April  30000          high\n",
      "4       May  22000          high\n"
     ]
    }
   ],
   "source": [
    "print(df.head())"
   ]
  },
  {
   "cell_type": "code",
   "execution_count": 14,
   "id": "4bbf81a0-906a-4fc3-9674-9ae0b1b65ce9",
   "metadata": {},
   "outputs": [
    {
     "name": "stdout",
     "output_type": "stream",
     "text": [
      "Sales Category distribution\n",
      "       Month  Sales SalesCategory\n",
      "0   January  15000        medium\n",
      "1  February  18000        medium\n",
      "2     March  12000        medium\n",
      "3     April  30000          high\n",
      "4       May  22000          high\n"
     ]
    }
   ],
   "source": [
    "sale_category_distribution =    df[\"SalesCategory\"].value_counts()\n",
    "print(\"Sales Category distribution\\n\",df.head())"
   ]
  },
  {
   "cell_type": "code",
   "execution_count": null,
   "id": "356b2337-bbfd-4220-8e49-af05ca6df8d7",
   "metadata": {},
   "outputs": [],
   "source": []
  }
 ],
 "metadata": {
  "kernelspec": {
   "display_name": "Python 3 (ipykernel)",
   "language": "python",
   "name": "python3"
  },
  "language_info": {
   "codemirror_mode": {
    "name": "ipython",
    "version": 3
   },
   "file_extension": ".py",
   "mimetype": "text/x-python",
   "name": "python",
   "nbconvert_exporter": "python",
   "pygments_lexer": "ipython3",
   "version": "3.12.7"
  }
 },
 "nbformat": 4,
 "nbformat_minor": 5
}

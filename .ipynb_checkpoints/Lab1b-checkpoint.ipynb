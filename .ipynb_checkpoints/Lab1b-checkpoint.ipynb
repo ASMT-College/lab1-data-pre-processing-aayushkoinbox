{
 "cells": [
  {
   "cell_type": "code",
   "execution_count": null,
   "id": "9c986843-23db-4817-9f62-b69d9e12bed9",
   "metadata": {},
   "outputs": [],
   "source": [
    "#normalization"
   ]
  },
  {
   "cell_type": "code",
   "execution_count": 3,
   "id": "931ebe05-ff6d-47b2-b83c-6ab290c6eb86",
   "metadata": {},
   "outputs": [],
   "source": [
    "import pandas as pd\n",
    "from sklearn.preprocessing import MinMaxScaler"
   ]
  },
  {
   "cell_type": "code",
   "execution_count": 4,
   "id": "e2f4e489-1faa-403b-b18b-ce02f6fdc040",
   "metadata": {},
   "outputs": [
    {
     "name": "stderr",
     "output_type": "stream",
     "text": [
      "<>:1: SyntaxWarning: invalid escape sequence '\\s'\n",
      "<>:1: SyntaxWarning: invalid escape sequence '\\s'\n",
      "C:\\Users\\pc\\AppData\\Local\\Temp\\ipykernel_20208\\4133585198.py:1: SyntaxWarning: invalid escape sequence '\\s'\n",
      "  df= read_csv(\"lab1-datasets\\students_scores.csv\")\n"
     ]
    },
    {
     "ename": "NameError",
     "evalue": "name 'read_csv' is not defined",
     "output_type": "error",
     "traceback": [
      "\u001b[1;31m---------------------------------------------------------------------------\u001b[0m",
      "\u001b[1;31mNameError\u001b[0m                                 Traceback (most recent call last)",
      "Cell \u001b[1;32mIn[4], line 1\u001b[0m\n\u001b[1;32m----> 1\u001b[0m df\u001b[38;5;241m=\u001b[39m read_csv(\u001b[38;5;124m\"\u001b[39m\u001b[38;5;124mlab1-datasets\u001b[39m\u001b[38;5;124m\\\u001b[39m\u001b[38;5;124mstudents_scores.csv\u001b[39m\u001b[38;5;124m\"\u001b[39m)\n",
      "\u001b[1;31mNameError\u001b[0m: name 'read_csv' is not defined"
     ]
    }
   ],
   "source": [
    "df= read_csv(\"lab1-datasets\\students_scores.csv\")"
   ]
  },
  {
   "cell_type": "code",
   "execution_count": 6,
   "id": "9de2543a-df97-44aa-a0d9-c52767d62e78",
   "metadata": {},
   "outputs": [],
   "source": [
    "df= pd.read_csv(\"lab1-datasets/student_scores.csv\")"
   ]
  },
  {
   "cell_type": "code",
   "execution_count": null,
   "id": "1ff8657f-2e5d-4ab8-a655-935664ca34d6",
   "metadata": {},
   "outputs": [],
   "source": [
    "# Step 1: Load the dataset"
   ]
  },
  {
   "cell_type": "code",
   "execution_count": 8,
   "id": "6211ed78-7a91-4f89-a5bf-46e54db191cd",
   "metadata": {},
   "outputs": [
    {
     "name": "stdout",
     "output_type": "stream",
     "text": [
      "raw/inital data \n",
      ":    StudentID  Math  Science  English\n",
      "0          1    78       65       80\n",
      "1          2    88       75       85\n",
      "2          3    60       50       55\n",
      "3          4    90       78       92\n",
      "4          5    55       48       58\n",
      "5          6    83       72       88\n",
      "6          7    71       66       79\n",
      "7          8    64       52       70\n",
      "8          9    88       80       90\n",
      "9         10    76       68       82\n"
     ]
    }
   ],
   "source": [
    "print(\"raw/inital data \\n:\",df)"
   ]
  },
  {
   "cell_type": "code",
   "execution_count": 9,
   "id": "f4cdb1f5-5add-4ce3-a8c4-f2af428e3a4b",
   "metadata": {},
   "outputs": [
    {
     "name": "stdout",
     "output_type": "stream",
     "text": [
      "raw/inital data \n",
      ":    StudentID  Math  Science  English\n",
      "5          6    83       72       88\n",
      "6          7    71       66       79\n",
      "7          8    64       52       70\n",
      "8          9    88       80       90\n",
      "9         10    76       68       82\n"
     ]
    }
   ],
   "source": [
    "print(\"raw/inital data \\n:\",df.tail())"
   ]
  },
  {
   "cell_type": "code",
   "execution_count": 11,
   "id": "37891447-01bc-4cb9-af0b-9bb657e84be2",
   "metadata": {},
   "outputs": [
    {
     "name": "stdout",
     "output_type": "stream",
     "text": [
      "Normalized data: \n",
      "    StudentID      Math  Science   English\n",
      "0          1  0.657143  0.53125  0.675676\n",
      "1          2  0.942857  0.84375  0.810811\n",
      "2          3  0.142857  0.06250  0.000000\n",
      "3          4  1.000000  0.93750  1.000000\n",
      "4          5  0.000000  0.00000  0.081081\n",
      "5          6  0.800000  0.75000  0.891892\n",
      "6          7  0.457143  0.56250  0.648649\n",
      "7          8  0.257143  0.12500  0.405405\n",
      "8          9  0.942857  1.00000  0.945946\n",
      "9         10  0.600000  0.62500  0.729730\n"
     ]
    }
   ],
   "source": [
    "# Step 2: Apply Min-Max normalization\n",
    "scalar = MinMaxScaler()\n",
    "df[['Math','Science','English']]= scalar.fit_transform(df[['Math','Science','English']])\n",
    "print(\"Normalized data: \\n\", df)"
   ]
  },
  {
   "cell_type": "code",
   "execution_count": 12,
   "id": "7b43d8fe-835e-46aa-8559-d7c6ac6fddd2",
   "metadata": {},
   "outputs": [
    {
     "name": "stdout",
     "output_type": "stream",
     "text": [
      "Normalized data: \n",
      "    StudentID      Math  Science   English\n",
      "0          1  0.657143  0.53125  0.675676\n",
      "1          2  0.942857  0.84375  0.810811\n",
      "2          3  0.142857  0.06250  0.000000\n",
      "3          4  1.000000  0.93750  1.000000\n",
      "4          5  0.000000  0.00000  0.081081\n"
     ]
    }
   ],
   "source": [
    "print(\"Normalized data: \\n\", df.head())"
   ]
  },
  {
   "cell_type": "code",
   "execution_count": null,
   "id": "b92e24fc-bef1-4b8f-bc38-72306d54c0ce",
   "metadata": {},
   "outputs": [],
   "source": []
  }
 ],
 "metadata": {
  "kernelspec": {
   "display_name": "Python 3 (ipykernel)",
   "language": "python",
   "name": "python3"
  },
  "language_info": {
   "codemirror_mode": {
    "name": "ipython",
    "version": 3
   },
   "file_extension": ".py",
   "mimetype": "text/x-python",
   "name": "python",
   "nbconvert_exporter": "python",
   "pygments_lexer": "ipython3",
   "version": "3.12.7"
  }
 },
 "nbformat": 4,
 "nbformat_minor": 5
}
